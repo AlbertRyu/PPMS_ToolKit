{
 "cells": [
  {
   "cell_type": "code",
   "execution_count": 1,
   "id": "77e2e362",
   "metadata": {},
   "outputs": [],
   "source": [
    "from sample import Sample\n",
    "from measurement import HeatCapacityMeasurement"
   ]
  },
  {
   "cell_type": "code",
   "execution_count": null,
   "id": "a7d9d680",
   "metadata": {},
   "outputs": [],
   "source": []
  }
 ],
 "metadata": {
  "kernelspec": {
   "display_name": "physics",
   "language": "python",
   "name": "python3"
  },
  "language_info": {
   "codemirror_mode": {
    "name": "ipython",
    "version": 3
   },
   "file_extension": ".py",
   "mimetype": "text/x-python",
   "name": "python",
   "nbconvert_exporter": "python",
   "pygments_lexer": "ipython3",
   "version": "3.12.2"
  }
 },
 "nbformat": 4,
 "nbformat_minor": 5
}
