{
 "cells": [
  {
   "cell_type": "code",
   "execution_count": 1,
   "id": "77e2e362",
   "metadata": {},
   "outputs": [],
   "source": [
    "from sample import Sample\n",
    "import pickle"
   ]
  },
  {
   "cell_type": "code",
   "execution_count": 2,
   "id": "d3588595",
   "metadata": {},
   "outputs": [],
   "source": [
    "sample_one =  Sample('strange sample')"
   ]
  },
  {
   "cell_type": "code",
   "execution_count": 3,
   "id": "8a5dafb8",
   "metadata": {},
   "outputs": [
    {
     "name": "stdout",
     "output_type": "stream",
     "text": [
      "Hi I am sample strange sample\n"
     ]
    }
   ],
   "source": [
    "sample_one.selfIntroduction()"
   ]
  },
  {
   "cell_type": "code",
   "execution_count": null,
   "id": "21e1b76c",
   "metadata": {},
   "outputs": [
    {
     "ename": "NameError",
     "evalue": "name 'sample_one' is not defined",
     "output_type": "error",
     "traceback": [
      "\u001b[0;31m---------------------------------------------------------------------------\u001b[0m",
      "\u001b[0;31mNameError\u001b[0m                                 Traceback (most recent call last)",
      "Cell \u001b[0;32mIn[2], line 2\u001b[0m\n\u001b[1;32m      1\u001b[0m \u001b[38;5;28;01mwith\u001b[39;00m \u001b[38;5;28mopen\u001b[39m(\u001b[38;5;124m\"\u001b[39m\u001b[38;5;124msaved_sample.pkl\u001b[39m\u001b[38;5;124m\"\u001b[39m,\u001b[38;5;124m\"\u001b[39m\u001b[38;5;124mwb\u001b[39m\u001b[38;5;124m\"\u001b[39m) \u001b[38;5;28;01mas\u001b[39;00m f:\n\u001b[0;32m----> 2\u001b[0m     pickle\u001b[38;5;241m.\u001b[39mdump(\u001b[43msample_one\u001b[49m,f)\n",
      "\u001b[0;31mNameError\u001b[0m: name 'sample_one' is not defined"
     ]
    }
   ],
   "source": [
    "with open(\"saved_sample.pkl\",\"wb\") as f:\n",
    "    pickle.dump(sample_one, f)"
   ]
  },
  {
   "cell_type": "code",
   "execution_count": null,
   "id": "0291a211",
   "metadata": {},
   "outputs": [],
   "source": []
  }
 ],
 "metadata": {
  "kernelspec": {
   "display_name": "physics",
   "language": "python",
   "name": "python3"
  },
  "language_info": {
   "codemirror_mode": {
    "name": "ipython",
    "version": 3
   },
   "file_extension": ".py",
   "mimetype": "text/x-python",
   "name": "python",
   "nbconvert_exporter": "python",
   "pygments_lexer": "ipython3",
   "version": "3.12.2"
  }
 },
 "nbformat": 4,
 "nbformat_minor": 5
}
