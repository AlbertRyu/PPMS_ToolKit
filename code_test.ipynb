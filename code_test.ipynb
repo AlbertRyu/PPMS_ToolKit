{
 "cells": [
  {
   "cell_type": "code",
   "execution_count": 1,
   "id": "77e2e362",
   "metadata": {},
   "outputs": [],
   "source": [
    "from sample import Sample\n",
    "from measurement import HeatCapacityMeasurement"
   ]
  },
  {
   "cell_type": "code",
   "execution_count": 15,
   "id": "d8728c41",
   "metadata": {},
   "outputs": [
    {
     "data": {
      "text/plain": [
       "'4DCL'"
      ]
     },
     "execution_count": 15,
     "metadata": {},
     "output_type": "execute_result"
    }
   ],
   "source": [
    "s1 = Sample('4DCL')\n",
    "s1.name"
   ]
  },
  {
   "cell_type": "code",
   "execution_count": 16,
   "id": "31429400",
   "metadata": {},
   "outputs": [],
   "source": [
    "m1 = HeatCapacityMeasurement(filepath='test_data/HC_test_data.Dat',\n",
    "                             sample=s1,\n",
    "                             field_strength=100)"
   ]
  },
  {
   "cell_type": "code",
   "execution_count": 19,
   "id": "6067ef28",
   "metadata": {},
   "outputs": [
    {
     "data": {
      "text/plain": [
       "[]"
      ]
     },
     "execution_count": 19,
     "metadata": {},
     "output_type": "execute_result"
    }
   ],
   "source": [
    "m1.sample.measurements"
   ]
  },
  {
   "cell_type": "code",
   "execution_count": 13,
   "id": "b72c9b7a",
   "metadata": {},
   "outputs": [],
   "source": [
    "sample1 = Sample('sample1')"
   ]
  },
  {
   "cell_type": "code",
   "execution_count": 5,
   "id": "8cf2168c",
   "metadata": {},
   "outputs": [
    {
     "ename": "TypeError",
     "evalue": "Sample.add_measurement() takes 2 positional arguments but 3 were given",
     "output_type": "error",
     "traceback": [
      "\u001b[0;31m---------------------------------------------------------------------------\u001b[0m",
      "\u001b[0;31mTypeError\u001b[0m                                 Traceback (most recent call last)",
      "Cell \u001b[0;32mIn[5], line 1\u001b[0m\n\u001b[0;32m----> 1\u001b[0m \u001b[43msample1\u001b[49m\u001b[38;5;241;43m.\u001b[39;49m\u001b[43madd_measurement\u001b[49m\u001b[43m(\u001b[49m\u001b[38;5;124;43m'\u001b[39;49m\u001b[38;5;124;43mtest_data/HC_test_data.Dat\u001b[39;49m\u001b[38;5;124;43m'\u001b[39;49m\u001b[43m,\u001b[49m\u001b[43m \u001b[49m\u001b[43mHeatCapacityMeasurement\u001b[49m\u001b[43m)\u001b[49m\n",
      "\u001b[0;31mTypeError\u001b[0m: Sample.add_measurement() takes 2 positional arguments but 3 were given"
     ]
    }
   ],
   "source": [
    "sample1.add_measurement('test_data/HC_test_data.Dat', HeatCapacityMeasurement)"
   ]
  },
  {
   "cell_type": "code",
   "execution_count": null,
   "id": "a6072b68",
   "metadata": {},
   "outputs": [],
   "source": []
  },
  {
   "cell_type": "code",
   "execution_count": null,
   "id": "bff7f9b2",
   "metadata": {},
   "outputs": [],
   "source": [
    "import pandas as pd"
   ]
  },
  {
   "cell_type": "code",
   "execution_count": null,
   "id": "271a926f",
   "metadata": {},
   "outputs": [],
   "source": []
  }
 ],
 "metadata": {
  "kernelspec": {
   "display_name": "physics",
   "language": "python",
   "name": "python3"
  },
  "language_info": {
   "codemirror_mode": {
    "name": "ipython",
    "version": 3
   },
   "file_extension": ".py",
   "mimetype": "text/x-python",
   "name": "python",
   "nbconvert_exporter": "python",
   "pygments_lexer": "ipython3",
   "version": "3.12.2"
  }
 },
 "nbformat": 4,
 "nbformat_minor": 5
}
