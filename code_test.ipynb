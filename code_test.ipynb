{
 "cells": [
  {
   "cell_type": "code",
   "execution_count": 1,
   "id": "77e2e362",
   "metadata": {},
   "outputs": [],
   "source": [
    "from sample import Sample"
   ]
  },
  {
   "cell_type": "code",
   "execution_count": 2,
   "id": "1c95a840",
   "metadata": {},
   "outputs": [],
   "source": [
    "s1 = Sample.load('saved_sample.pkl')"
   ]
  },
  {
   "cell_type": "code",
   "execution_count": 3,
   "id": "7755b065",
   "metadata": {},
   "outputs": [
    {
     "name": "stdout",
     "output_type": "stream",
     "text": [
      "Hi I am strange sample\n"
     ]
    }
   ],
   "source": [
    "s1.selfIntroduction()"
   ]
  },
  {
   "cell_type": "code",
   "execution_count": 4,
   "id": "0877805e",
   "metadata": {},
   "outputs": [],
   "source": [
    "s1.set_make_time('2015-10-10')"
   ]
  },
  {
   "cell_type": "code",
   "execution_count": 5,
   "id": "cdea176c",
   "metadata": {},
   "outputs": [
    {
     "data": {
      "text/plain": [
       "datetime.datetime(2015, 10, 10, 0, 0)"
      ]
     },
     "execution_count": 5,
     "metadata": {},
     "output_type": "execute_result"
    }
   ],
   "source": [
    "s1.make_time"
   ]
  },
  {
   "cell_type": "code",
   "execution_count": null,
   "id": "b72c9b7a",
   "metadata": {},
   "outputs": [],
   "source": []
  }
 ],
 "metadata": {
  "kernelspec": {
   "display_name": "physics",
   "language": "python",
   "name": "python3"
  },
  "language_info": {
   "codemirror_mode": {
    "name": "ipython",
    "version": 3
   },
   "file_extension": ".py",
   "mimetype": "text/x-python",
   "name": "python",
   "nbconvert_exporter": "python",
   "pygments_lexer": "ipython3",
   "version": "3.12.2"
  }
 },
 "nbformat": 4,
 "nbformat_minor": 5
}
